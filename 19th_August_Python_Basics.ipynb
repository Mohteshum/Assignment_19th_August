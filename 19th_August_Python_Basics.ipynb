{
 "cells": [
  {
   "cell_type": "code",
   "execution_count": null,
   "id": "64dedf67-8dae-4f27-9942-4e10e57ad088",
   "metadata": {},
   "outputs": [],
   "source": [
    "#TOPIC: Python Basics Variable"
   ]
  },
  {
   "cell_type": "code",
   "execution_count": 30,
   "id": "0d5bb359-c28d-42ef-b8c7-9b18bf8b6b90",
   "metadata": {},
   "outputs": [
    {
     "name": "stdout",
     "output_type": "stream",
     "text": [
      "Value of x: 1626\n",
      "Value of y: 1223\n"
     ]
    }
   ],
   "source": [
    "##Answer 1\n",
    "\n",
    "# Declare two variables, x and y\n",
    "x = 1223\n",
    "y = 1626\n",
    "\n",
    "# Swap the values of x and y without using a temporary variable\n",
    "x, y = y, x\n",
    "\n",
    "# Print the swapped values\n",
    "print(\"Value of x:\", x)\n",
    "print(\"Value of y:\", y)\n"
   ]
  },
  {
   "cell_type": "code",
   "execution_count": 7,
   "id": "8de972b0-d4ee-4ebd-98c5-b82a690c3334",
   "metadata": {},
   "outputs": [
    {
     "name": "stdin",
     "output_type": "stream",
     "text": [
      "Please enter rectangle length:  23.23\n",
      "Please enter rectangle width:  21.8263\n"
     ]
    },
    {
     "name": "stdout",
     "output_type": "stream",
     "text": [
      "The area of the rectangle is: 507.024949\n"
     ]
    }
   ],
   "source": [
    "#Answer 2\n",
    "\n",
    "# Take length and width as input from the user\n",
    "length = float(input(\"Please enter rectangle length: \"))\n",
    "width = float(input(\"Please enter rectangle width: \"))\n",
    "\n",
    "# Calculate the area of the rectangle\n",
    "area = length * width\n",
    "\n",
    "# Display the calculated area\n",
    "print(\"The area of the rectangle is:\", area)"
   ]
  },
  {
   "cell_type": "code",
   "execution_count": null,
   "id": "da9ab07c-d912-4df7-a64d-372abafe0cb8",
   "metadata": {},
   "outputs": [
    {
     "name": "stdin",
     "output_type": "stream",
     "text": [
      "Temperature in Celsius:  47.5\n"
     ]
    },
    {
     "name": "stdout",
     "output_type": "stream",
     "text": [
      "Temperature in Fahrenheit: 117.5\n"
     ]
    }
   ],
   "source": [
    "#Answer 3\n",
    "\n",
    "# Take temperature in Celsius as input from the user\n",
    "celsius = float(input(\"Temperature in Celsius: \"))\n",
    "\n",
    "# Convert Celsius to Fahrenheit\n",
    "fahrenheit = (celsius * 9/5) + 32\n",
    "\n",
    "# Display the converted temperature in Fahrenheit\n",
    "print(\"Temperature in Fahrenheit:\", fahrenheit)"
   ]
  },
  {
   "cell_type": "code",
   "execution_count": null,
   "id": "91f6eb6a-acba-48b3-bd70-fb8b6457fe08",
   "metadata": {},
   "outputs": [],
   "source": [
    "##Sting Based question\n"
   ]
  },
  {
   "cell_type": "code",
   "execution_count": null,
   "id": "49487cfb-6c39-4ba3-9ef3-5084e10105fb",
   "metadata": {},
   "outputs": [
    {
     "name": "stdin",
     "output_type": "stream",
     "text": [
      " A beautiful Mind\n"
     ]
    },
    {
     "name": "stdout",
     "output_type": "stream",
     "text": [
      "16\n"
     ]
    }
   ],
   "source": [
    "#Answer 1\n",
    "\n",
    "# Taking input from the user and storing it in the variable 's'\n",
    "s = input()\n",
    "\n",
    "# Calculating the length of the input string 's' using the len() function\n",
    "length = len(s)\n",
    "\n",
    "# Printing the calculated length of the string\n",
    "print(length)"
   ]
  },
  {
   "cell_type": "code",
   "execution_count": 38,
   "id": "fa29f787-54b9-4dbe-bf8c-6007c5353d7c",
   "metadata": {},
   "outputs": [
    {
     "name": "stdin",
     "output_type": "stream",
     "text": [
      "Enter your sentence:  You can't come up with a formula to change the way you experience the world.\n"
     ]
    },
    {
     "name": "stdout",
     "output_type": "stream",
     "text": [
      "Total vowels found: 25\n"
     ]
    }
   ],
   "source": [
    "#Answer 2\n",
    "\n",
    "# Taking input from the user\n",
    "sentence = input(\"Enter your sentence: \")\n",
    "\n",
    "# Converting the sentence to lowercase\n",
    "sentence = sentence.lower()\n",
    "\n",
    "# Counting the number of each vowel\n",
    "vowels = sentence.count('a') + sentence.count('e')  + sentence.count('i') + sentence.count('o') + sentence.count('u')\n",
    "\n",
    "# Printing the total number of vowels\n",
    "print(\"Total vowels found:\", vowels)"
   ]
  },
  {
   "cell_type": "code",
   "execution_count": 42,
   "id": "919052ec-6a32-4684-b582-12de09e95236",
   "metadata": {},
   "outputs": [
    {
     "name": "stdout",
     "output_type": "stream",
     "text": [
      "Reversed String: !dlroW olleH\n"
     ]
    }
   ],
   "source": [
    "#Answer 3\n",
    "\n",
    "# Input string\n",
    "s = \"Hello World!\"\n",
    "\n",
    "# Using string slicing to reverse the string\n",
    "reversed_string = s[::-1]\n",
    "\n",
    "# Display the reversed string\n",
    "print(\"Reversed String:\", reversed_string)\n"
   ]
  },
  {
   "cell_type": "code",
   "execution_count": 24,
   "id": "dda04df9-59aa-4c27-b5f3-d22651916efc",
   "metadata": {},
   "outputs": [
    {
     "name": "stdin",
     "output_type": "stream",
     "text": [
      "Enter the string to check if it is a palindrome: rAdaR\n"
     ]
    },
    {
     "name": "stdout",
     "output_type": "stream",
     "text": [
      "The string is a palindrome.\n"
     ]
    }
   ],
   "source": [
    "#Answer 4\n",
    "\n",
    "\n",
    "# Input string from the user\n",
    "s = input(\"Enter the string to check if it is a palindrome:\")\n",
    "\n",
    "# Convert the input string to lowercase for case-insensitive comparison\n",
    "s = s.casefold()\n",
    "\n",
    "# Reverse the string using string slicing\n",
    "rev_s = s[::-1]\n",
    "\n",
    "# Check if the original and reversed strings are the same\n",
    "if s == rev_s:\n",
    "    print(\"The string is a palindrome.\")\n",
    "else:\n",
    "    print(\"The string is not a palindrome.\")\n"
   ]
  },
  {
   "cell_type": "code",
   "execution_count": 43,
   "id": "1b86e933-4a63-4686-b238-409b3c3a00f8",
   "metadata": {},
   "outputs": [
    {
     "name": "stdin",
     "output_type": "stream",
     "text": [
      "Please enter a string: John Nash\n"
     ]
    },
    {
     "name": "stdout",
     "output_type": "stream",
     "text": [
      "Modified String: JohnNash\n"
     ]
    }
   ],
   "source": [
    "#Answer 5\n",
    "\n",
    "# Take a string as input from the user\n",
    "s = input(\"Please enter a string:\")\n",
    "\n",
    "# Remove all spaces from the string and assign the modified string to a variable\n",
    "modified_string = s.replace(\" \", \"\")\n",
    "\n",
    "# Print the modified string without spaces\n",
    "print(\"Modified String:\", modified_string)\n"
   ]
  },
  {
   "cell_type": "code",
   "execution_count": null,
   "id": "adbdeb0b-eb26-4e27-b092-87bf94d0f456",
   "metadata": {},
   "outputs": [],
   "source": []
  }
 ],
 "metadata": {
  "kernelspec": {
   "display_name": "Python 3 (ipykernel)",
   "language": "python",
   "name": "python3"
  },
  "language_info": {
   "codemirror_mode": {
    "name": "ipython",
    "version": 3
   },
   "file_extension": ".py",
   "mimetype": "text/x-python",
   "name": "python",
   "nbconvert_exporter": "python",
   "pygments_lexer": "ipython3",
   "version": "3.10.8"
  }
 },
 "nbformat": 4,
 "nbformat_minor": 5
}
